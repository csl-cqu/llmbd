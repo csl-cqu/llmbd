{
 "cells": [
  {
   "cell_type": "code",
   "execution_count": 36,
   "metadata": {},
   "outputs": [],
   "source": [
    "import os\n",
    "import json\n",
    "import pandas as pd \n",
    "import hashlib"
   ]
  },
  {
   "cell_type": "code",
   "execution_count": 37,
   "metadata": {},
   "outputs": [],
   "source": [
    "def sha256_hash(text):\n",
    "    return hashlib.sha256(text.encode('utf-8')).hexdigest()"
   ]
  },
  {
   "cell_type": "code",
   "execution_count": 47,
   "metadata": {},
   "outputs": [],
   "source": [
    "llm_transfer_json_data = \"/home/fei/NLPLab/LLMAgents/LLaMA-Factory/infer_output/sst-2_train_badnets_llama3.jsonl\"\n",
    "with open(llm_transfer_json_data, 'r') as f:\n",
    "    llm_data = [json.loads(line) for line in f]\n",
    "\n",
    "llm_transfer_json_dict = {data['label']: data['predict'].replace('\\n', '') for data in llm_data}\n",
    "\n",
    "# load clean data\n",
    "clean_data_path = \"/home/fei/NLPLab/StyleDefense/datasets/sst-2_0.1_LLM/attack/badnets/train-poison.csv\"\n",
    "clean_df = pd.read_csv(clean_data_path)\n",
    "clean_df.head()\n",
    "\n",
    "save_dir = '/home/fei/NLPLab/StyleDefense/datasets/sst-2_0.1_LLM/defense/llama3-8b-instruct/badnets'\n",
    "os.makedirs(save_dir, exist_ok=True)\n",
    "clean_df['0'] = clean_df['0'].apply(lambda x: llm_transfer_json_dict[sha256_hash(x)])\n",
    "clean_df.to_csv(os.path.join(save_dir, 'train-poison.csv'), index=False)"
   ]
  }
 ],
 "metadata": {
  "kernelspec": {
   "display_name": "textGuard39",
   "language": "python",
   "name": "python3"
  },
  "language_info": {
   "codemirror_mode": {
    "name": "ipython",
    "version": 3
   },
   "file_extension": ".py",
   "mimetype": "text/x-python",
   "name": "python",
   "nbconvert_exporter": "python",
   "pygments_lexer": "ipython3",
   "version": "3.9.19"
  }
 },
 "nbformat": 4,
 "nbformat_minor": 2
}
