{
 "cells": [
  {
   "cell_type": "code",
   "execution_count": 7,
   "metadata": {},
   "outputs": [
    {
     "name": "stderr",
     "output_type": "stream",
     "text": [
      "100%|██████████| 6920/6920 [00:42<00:00, 160.95it/s]\n"
     ]
    },
    {
     "name": "stdout",
     "output_type": "stream",
     "text": [
      "All vocab size: 13936\n"
     ]
    }
   ],
   "source": [
    "import spacy\n",
    "import csv\n",
    "from collections import Counter\n",
    "from tqdm import tqdm, trange\n",
    "import json\n",
    "\n",
    "'''\n",
    "    collect dataset collection and vocab\n",
    "'''\n",
    "\n",
    "base_data_path = 'datasets/sst-2/badnets/train.csv'\n",
    "vocab_save_path = 'config/sst-2/badnets/vocab.json'\n",
    "nlp = spacy.load(\"en_core_web_sm\")\n",
    "\n",
    "\n",
    "with open(base_data_path, 'r') as f:\n",
    "    reader = csv.reader(f)\n",
    "    text_list = [value[0] for value in list(reader)[1:]]\n",
    "\n",
    "tokens = []\n",
    "for text in tqdm(text_list):\n",
    "    doc = nlp(text)\n",
    "    tokens.append([token.text for token in doc])\n",
    "flattened_list = [item for sublist in tokens for item in sublist]\n",
    "counter = Counter(flattened_list)\n",
    "counter_dict = dict(counter)\n",
    "\n",
    "count = 0\n",
    "print(f'All vocab size: {len(counter_dict)}')\n",
    "for key in counter_dict:\n",
    "    counter_dict[key] = count\n",
    "    count += 1 \n",
    "\n",
    "counter_json = json.dumps(counter_dict, indent=4)\n",
    "with open(vocab_save_path, 'w') as file:\n",
    "    file.write(counter_json)"
   ]
  },
  {
   "cell_type": "code",
   "execution_count": 3,
   "metadata": {},
   "outputs": [
    {
     "name": "stdout",
     "output_type": "stream",
     "text": [
      "1\n"
     ]
    }
   ],
   "source": [
    "import re\n",
    "\n",
    "def match_strings(strings, pattern):\n",
    "    # 编译正则表达式\n",
    "    regex = re.compile(f'^{pattern}$')\n",
    "    \n",
    "    # 存储匹配的字符串下标\n",
    "    matches = []\n",
    "    \n",
    "    # 遍历字符串数组并匹配\n",
    "    for i, string in enumerate(strings):\n",
    "        if regex.match(string):\n",
    "            matches.append(i)\n",
    "    \n",
    "    # 输出结果\n",
    "    if matches:\n",
    "        print(','.join(map(str, matches)))\n",
    "    else:\n",
    "        print(-1)\n",
    "\n",
    "# 示例输入\n",
    "strings_input = input().strip()\n",
    "pattern_input = input().strip()\n",
    "\n",
    "# 将输入字符串转换为列表\n",
    "strings = strings_input.split()\n",
    "\n",
    "# 调用函数进行匹配\n",
    "match_strings(strings, pattern_input)"
   ]
  },
  {
   "cell_type": "code",
   "execution_count": 10,
   "metadata": {},
   "outputs": [
    {
     "name": "stderr",
     "output_type": "stream",
     "text": [
      "100%|██████████| 6920/6920 [00:43<00:00, 157.79it/s]\n"
     ]
    }
   ],
   "source": [
    "import pandas as pd\n",
    "import json\n",
    "import spacy\n",
    "import os \n",
    "\n",
    "'''\n",
    "    construct mark data\n",
    "'''\n",
    "\n",
    "ori_data_path = 'datasets/sst-2/clean/train-clean.csv'\n",
    "vocab_save_path = 'config/sst-2/badnets/vocab.json'\n",
    "mask_save_dir = 'datasets/sst-2/clean/mask'\n",
    "k = 5\n",
    "os.makedirs(mask_save_dir, exist_ok=True)\n",
    "\n",
    "train_df = pd.read_csv(ori_data_path)\n",
    "with open(vocab_save_path, 'r') as f:\n",
    "    vocab = json.load(f)\n",
    "nlp = spacy.load('en_core_web_sm')\n",
    "\n",
    "def process_text(text, vocab, k):\n",
    "    doc = nlp(text)\n",
    "    tokens = [token.text for token in doc]\n",
    "    ids = [vocab.get(token) for token in tokens] \n",
    "    \n",
    "    mask_list = []\n",
    "    for i in range(k):\n",
    "        masked_tokens = [token if ids[j] % k != i else '[MASK]' for j, token in enumerate(tokens)]\n",
    "        mask_list.append(' '.join(masked_tokens))\n",
    "    \n",
    "    return mask_list\n",
    "\n",
    "processed_data = []\n",
    "for text in tqdm(train_df['sentence']):\n",
    "    mask_list = process_text(text, vocab, k)\n",
    "    processed_data.append(mask_list)\n",
    "\n",
    "for i in range(k):\n",
    "    mask_list = []\n",
    "    for index, row in train_df.iterrows():  \n",
    "        mask_list.append((processed_data[index][i], row['label']))\n",
    "    with open(f'{mask_save_dir}/train_{i}.csv', 'w') as f:\n",
    "        writer = csv.writer(f)\n",
    "        writer.writerow(['sentence', 'label'])\n",
    "        writer.writerows(mask_list)"
   ]
  },
  {
   "cell_type": "code",
   "execution_count": 15,
   "metadata": {},
   "outputs": [],
   "source": [
    "import pandas as pd\n",
    "import json\n",
    "from tqdm import tqdm\n",
    "'''\n",
    "    construct batch data for API\n",
    "'''\n",
    "k=5\n",
    "\n",
    "for i in range(k):\n",
    "    dataset_path = f\"datasets/sst-2/clean/mask/train_{i}.csv\"\n",
    "    batch_save_dir = \"datasets/sst-2/clean/api_batch\"\n",
    "    os.makedirs(batch_save_dir, exist_ok=True)\n",
    "\n",
    "    df = pd.read_csv(dataset_path)\n",
    "    model = 'gpt-4o'\n",
    "    prompt = 'Your goal is to only fill the [MASK] for the provided sequence and directly return the whole filled sequence.'\n",
    "\n",
    "    tasks = []\n",
    "    for index, row in df.iterrows():\n",
    "        description = row.iloc[0]\n",
    "        task = {\n",
    "            \"custom_id\": f\"task-{index}\",\n",
    "            \"method\": \"POST\",\n",
    "            \"url\": \"/v1/chat/completions\",\n",
    "            \"body\": {\n",
    "                # This is what you would have in your Chat Completions API call\n",
    "                \"model\": model,\n",
    "                \"temperature\": 0.1,\n",
    "                \"response_format\": { \n",
    "                    \"type\": \"json_object\"\n",
    "                },\n",
    "                \"messages\": [\n",
    "                    {\n",
    "                        \"role\": \"system\",\n",
    "                        \"content\": prompt\n",
    "                    },\n",
    "                    {\n",
    "                        \"role\": \"user\",\n",
    "                        \"content\": description\n",
    "                    }\n",
    "                ],\n",
    "            }\n",
    "        }\n",
    "        \n",
    "        tasks.append(task)\n",
    "\n",
    "    with open(f'{batch_save_dir}/train_{i}.jsonl', 'w') as file:\n",
    "        for obj in tasks:\n",
    "            file.write(json.dumps(obj) + '\\n')"
   ]
  },
  {
   "cell_type": "code",
   "execution_count": 16,
   "metadata": {},
   "outputs": [],
   "source": [
    "df = pd.read_csv('datasets/sst-2/clean/train-clean.csv')\n",
    "\n",
    "# Convert the DataFrame to a dictionary\n",
    "data_dict = df.to_dict(orient='list')"
   ]
  },
  {
   "cell_type": "code",
   "execution_count": 19,
   "metadata": {},
   "outputs": [
    {
     "data": {
      "text/plain": [
       "6920"
      ]
     },
     "execution_count": 19,
     "metadata": {},
     "output_type": "execute_result"
    }
   ],
   "source": [
    "len(data_dict['sentence'])"
   ]
  },
  {
   "cell_type": "code",
   "execution_count": null,
   "metadata": {},
   "outputs": [],
   "source": [
    "'''\n",
    "    Upload file to API\n",
    "'''\n",
    "import os\n",
    "from openai import OpenAI\n",
    "os.environ['OPENAI_API_KEY'] = ''\n",
    "batch_save_dir = \"datasets/sst-2/clean/api_batch\"\n",
    "k = 5\n",
    "client = OpenAI()\n",
    "for i in range(k):\n",
    "  batch_file = client.files.create(\n",
    "    file=open(f'{batch_save_dir}/train_{i}.jsonl', \"rb\"),\n",
    "    purpose=\"batch\"\n",
    "  )\n",
    "  print(batch_file)\n",
    "  batch_job = client.batches.create(\n",
    "    input_file_id=batch_file.id,\n",
    "    endpoint=\"/v1/chat/completions\",\n",
    "    completion_window=\"24h\"\n",
    "  )\n",
    "  print(batch_job.id)"
   ]
  },
  {
   "cell_type": "code",
   "execution_count": 6,
   "metadata": {},
   "outputs": [
    {
     "name": "stdout",
     "output_type": "stream",
     "text": [
      "Batch(id='batch_PpQXpZCJAtageB9fLvXMHyGA', completion_window='24h', created_at=1719760911, endpoint='/v1/chat/completions', input_file_id='file-f1dn8zCYu4oiUrGz5OI6ccgj', object='batch', status='completed', cancelled_at=None, cancelling_at=None, completed_at=1719776416, error_file_id='file-1Rd3lNQlQeUBSK1MwP2bsyOi', errors=None, expired_at=None, expires_at=1719847311, failed_at=None, finalizing_at=1719776410, in_progress_at=1719760911, metadata=None, output_file_id=None, request_counts=BatchRequestCounts(completed=0, failed=100, total=100))\n"
     ]
    }
   ],
   "source": [
    "batch_job = client.batches.retrieve('batch_PpQXpZCJAtageB9fLvXMHyGA')\n",
    "print(batch_job)"
   ]
  },
  {
   "cell_type": "code",
   "execution_count": null,
   "metadata": {},
   "outputs": [
    {
     "ename": "",
     "evalue": "",
     "output_type": "error",
     "traceback": [
      "\u001b[1;31mRunning cells with 'nlp310 (Python 3.10.14)' requires the ipykernel package.\n",
      "\u001b[1;31mRun the following command to install 'ipykernel' into the Python environment. \n",
      "\u001b[1;31mCommand: 'conda install -n nlp310 ipykernel --update-deps --force-reinstall'"
     ]
    }
   ],
   "source": [
    "import os\n",
    "import json\n",
    "import asyncio\n",
    "from openai import OpenAI\n",
    "# os.environ['OPENAI_API_KEY'] = ''\n",
    "os.environ['OPENAI_API_KEY'] = ''\n",
    "batch_save_dir = \"datasets/sst-2/clean/api_batch\"\n",
    "k = 5\n",
    "seed = 1234\n",
    "client = OpenAI()\n",
    "\n",
    "mask_list = []\n",
    "with open(f'{batch_save_dir}/train_0.jsonl', 'r') as f:\n",
    "    for line in f:\n",
    "        mask_list.append(json.loads(line))"
   ]
  },
  {
   "cell_type": "code",
   "execution_count": 12,
   "metadata": {},
   "outputs": [],
   "source": [
    "async def get_response(message, seed=1234):\n",
    "    chat_completion = await client.chat.completions.create(\n",
    "        messages=message,\n",
    "        model=\"gpt-4o\",\n",
    "        seed=seed\n",
    "    )\n",
    "    return chat_completion.choices[0].message.content\n",
    "\n",
    "# responses = [get_response(value['body']['messages']) for value in mask_list[:10]]\n",
    "async def main(mask_list, res_save_dir=\"datasets/sst-2/clean/api_filled\"):\n",
    "    responses = await asyncio.gather(*[get_response(value['body']['messages']) for value in mask_list])\n",
    "    print(responses)\n",
    "    # res_save_dir = \"datasets/sst-2/clean/api_filled\"\n",
    "    # os.makedirs(res_save_dir, exist_ok=True)\n",
    "    # # Print each response\n",
    "    # with open(f'{res_save_dir}/train_0.txt', 'w') as f:\n",
    "    #     f.writelines([value+'\\n' for value in responses])"
   ]
  },
  {
   "cell_type": "code",
   "execution_count": 14,
   "metadata": {},
   "outputs": [
    {
     "name": "stderr",
     "output_type": "stream",
     "text": [
      "/home/fei/NLPLab/miniconda3/envs/textGuard39/lib/python3.9/ast.py:50: RuntimeWarning: coroutine 'main' was never awaited\n",
      "  return compile(source, filename, mode, flags,\n",
      "RuntimeWarning: Enable tracemalloc to get the object allocation traceback\n"
     ]
    },
    {
     "ename": "RuntimeError",
     "evalue": "This event loop is already running",
     "output_type": "error",
     "traceback": [
      "\u001b[0;31m---------------------------------------------------------------------------\u001b[0m",
      "\u001b[0;31mRuntimeError\u001b[0m                              Traceback (most recent call last)",
      "Cell \u001b[0;32mIn[14], line 2\u001b[0m\n\u001b[1;32m      1\u001b[0m loop \u001b[38;5;241m=\u001b[39m asyncio\u001b[38;5;241m.\u001b[39mget_event_loop()\n\u001b[0;32m----> 2\u001b[0m \u001b[43mloop\u001b[49m\u001b[38;5;241;43m.\u001b[39;49m\u001b[43mrun_until_complete\u001b[49m\u001b[43m(\u001b[49m\u001b[43mmain\u001b[49m\u001b[43m(\u001b[49m\u001b[43mmask_list\u001b[49m\u001b[43m)\u001b[49m\u001b[43m)\u001b[49m\n",
      "File \u001b[0;32m~/NLPLab/miniconda3/envs/textGuard39/lib/python3.9/asyncio/base_events.py:623\u001b[0m, in \u001b[0;36mBaseEventLoop.run_until_complete\u001b[0;34m(self, future)\u001b[0m\n\u001b[1;32m    612\u001b[0m \u001b[38;5;250m\u001b[39m\u001b[38;5;124;03m\"\"\"Run until the Future is done.\u001b[39;00m\n\u001b[1;32m    613\u001b[0m \n\u001b[1;32m    614\u001b[0m \u001b[38;5;124;03mIf the argument is a coroutine, it is wrapped in a Task.\u001b[39;00m\n\u001b[0;32m   (...)\u001b[0m\n\u001b[1;32m    620\u001b[0m \u001b[38;5;124;03mReturn the Future's result, or raise its exception.\u001b[39;00m\n\u001b[1;32m    621\u001b[0m \u001b[38;5;124;03m\"\"\"\u001b[39;00m\n\u001b[1;32m    622\u001b[0m \u001b[38;5;28mself\u001b[39m\u001b[38;5;241m.\u001b[39m_check_closed()\n\u001b[0;32m--> 623\u001b[0m \u001b[38;5;28;43mself\u001b[39;49m\u001b[38;5;241;43m.\u001b[39;49m\u001b[43m_check_running\u001b[49m\u001b[43m(\u001b[49m\u001b[43m)\u001b[49m\n\u001b[1;32m    625\u001b[0m new_task \u001b[38;5;241m=\u001b[39m \u001b[38;5;129;01mnot\u001b[39;00m futures\u001b[38;5;241m.\u001b[39misfuture(future)\n\u001b[1;32m    626\u001b[0m future \u001b[38;5;241m=\u001b[39m tasks\u001b[38;5;241m.\u001b[39mensure_future(future, loop\u001b[38;5;241m=\u001b[39m\u001b[38;5;28mself\u001b[39m)\n",
      "File \u001b[0;32m~/NLPLab/miniconda3/envs/textGuard39/lib/python3.9/asyncio/base_events.py:583\u001b[0m, in \u001b[0;36mBaseEventLoop._check_running\u001b[0;34m(self)\u001b[0m\n\u001b[1;32m    581\u001b[0m \u001b[38;5;28;01mdef\u001b[39;00m \u001b[38;5;21m_check_running\u001b[39m(\u001b[38;5;28mself\u001b[39m):\n\u001b[1;32m    582\u001b[0m     \u001b[38;5;28;01mif\u001b[39;00m \u001b[38;5;28mself\u001b[39m\u001b[38;5;241m.\u001b[39mis_running():\n\u001b[0;32m--> 583\u001b[0m         \u001b[38;5;28;01mraise\u001b[39;00m \u001b[38;5;167;01mRuntimeError\u001b[39;00m(\u001b[38;5;124m'\u001b[39m\u001b[38;5;124mThis event loop is already running\u001b[39m\u001b[38;5;124m'\u001b[39m)\n\u001b[1;32m    584\u001b[0m     \u001b[38;5;28;01mif\u001b[39;00m events\u001b[38;5;241m.\u001b[39m_get_running_loop() \u001b[38;5;129;01mis\u001b[39;00m \u001b[38;5;129;01mnot\u001b[39;00m \u001b[38;5;28;01mNone\u001b[39;00m:\n\u001b[1;32m    585\u001b[0m         \u001b[38;5;28;01mraise\u001b[39;00m \u001b[38;5;167;01mRuntimeError\u001b[39;00m(\n\u001b[1;32m    586\u001b[0m             \u001b[38;5;124m'\u001b[39m\u001b[38;5;124mCannot run the event loop while another loop is running\u001b[39m\u001b[38;5;124m'\u001b[39m)\n",
      "\u001b[0;31mRuntimeError\u001b[0m: This event loop is already running"
     ]
    }
   ],
   "source": [
    "loop = asyncio.get_event_loop()\n",
    "loop.run_until_complete(main(mask_list))"
   ]
  }
 ],
 "metadata": {
  "kernelspec": {
   "display_name": "textGuard39",
   "language": "python",
   "name": "python3"
  },
  "language_info": {
   "codemirror_mode": {
    "name": "ipython",
    "version": 3
   },
   "file_extension": ".py",
   "mimetype": "text/x-python",
   "name": "python",
   "nbconvert_exporter": "python",
   "pygments_lexer": "ipython3",
   "version": "3.10.14"
  }
 },
 "nbformat": 4,
 "nbformat_minor": 2
}
