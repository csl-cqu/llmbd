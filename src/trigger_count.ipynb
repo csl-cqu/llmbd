{
 "cells": [
  {
   "cell_type": "code",
   "execution_count": 23,
   "metadata": {},
   "outputs": [
    {
     "name": "stderr",
     "output_type": "stream",
     "text": [
      "[\u001b[032m2024-06-25 16:59:59,404\u001b[0m INFO] badnets_poisoner Initializing BadNet poisoner, triggers are cf mn bb tq\n",
      "[\u001b[032m2024-06-25 16:59:59,494\u001b[0m INFO] 2756213182 {'base_attack': 467, 'bible': 264, 'shakespeare': 221, 'tweets': 404, 'lyrics': 385, 'poetry': 314}\n"
     ]
    },
    {
     "name": "stdout",
     "output_type": "stream",
     "text": [
      "{}\n"
     ]
    }
   ],
   "source": [
    "import os\n",
    "from openbackdoor import load_dataset\n",
    "import openbackdoor as ob\n",
    "from utils.logger import init_logger\n",
    "import csv\n",
    "\n",
    "poison_method = 'badnets'\n",
    "dataset_name ='hsol'\n",
    "log_dir = f'log/trigger/{dataset_name}'\n",
    "os.makedirs(log_dir, exist_ok=True)\n",
    "\n",
    "logger = init_logger(f'{log_dir}/{poison_method}.log')\n",
    "base_attacker = ob.Attacker(\n",
    "    poisoner={'name': poison_method, \"target_label\": 0, \"poison_rate\": 0.05, \"logger\": logger}, \n",
    ") \n",
    "\n",
    "def trigger_count(triggers, data_list):\n",
    "    count = 0\n",
    "    for data in data_list:\n",
    "        if any(trigger in data[0] for trigger in triggers):\n",
    "            count += 1\n",
    "    return count\n",
    "        \n",
    "# ----------------------------------------------------------------------------------\n",
    "# ===: load poisoned data from basic attack\n",
    "# ----------------------------------------------------------------------------------\n",
    "count_dict = {}\n",
    "with open(f'datasets/{dataset_name}/{poison_method}/train.csv', 'r',  newline='') as f:\n",
    "    base_attack_data = list(csv.reader(f))[1:]\n",
    "    count_dict['base_attack'] = trigger_count(base_attacker.poisoner.triggers, base_attack_data)\n",
    "\n",
    "# ----------------------------------------------------------------------------------\n",
    "# ===: load poisoned data from transfer defense\n",
    "# ----------------------------------------------------------------------------------\n",
    "styles = ['bible', 'shakespeare', 'tweets', 'lyrics', 'poetry']\n",
    "for style in styles:\n",
    "    with open(f'datasets/{dataset_name}/{poison_method}-{style}/train.csv', 'r',  newline='') as f:\n",
    "        style_data = list(csv.reader(f))[1:]\n",
    "        count_dict[style] = trigger_count(base_attacker.poisoner.triggers, style_data)\n",
    "\n",
    "logger.info(count_dict)"
   ]
  }
 ],
 "metadata": {
  "kernelspec": {
   "display_name": "textGuard39",
   "language": "python",
   "name": "python3"
  },
  "language_info": {
   "codemirror_mode": {
    "name": "ipython",
    "version": 3
   },
   "file_extension": ".py",
   "mimetype": "text/x-python",
   "name": "python",
   "nbconvert_exporter": "python",
   "pygments_lexer": "ipython3",
   "version": "3.9.19"
  }
 },
 "nbformat": 4,
 "nbformat_minor": 2
}
