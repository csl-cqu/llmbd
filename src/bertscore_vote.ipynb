{
 "cells": [
  {
   "cell_type": "code",
   "execution_count": 2,
   "metadata": {},
   "outputs": [],
   "source": [
    "from evaluate import load\n",
    "import numpy as np\n",
    "import csv\n",
    "import itertools\n",
    "from tqdm import tqdm, trange"
   ]
  },
  {
   "cell_type": "code",
   "execution_count": 3,
   "metadata": {},
   "outputs": [
    {
     "name": "stderr",
     "output_type": "stream",
     "text": [
      "/home/fei/NLPLab/miniconda3/envs/textGuard39/lib/python3.9/site-packages/huggingface_hub-0.23.0-py3.9.egg/huggingface_hub/file_download.py:1132: FutureWarning: `resume_download` is deprecated and will be removed in version 1.0.0. Downloads always resume when possible. If you want to force a new download, use `force_download=True`.\n",
      "  warnings.warn(\n",
      "Some weights of RobertaModel were not initialized from the model checkpoint at roberta-large and are newly initialized: ['roberta.pooler.dense.bias', 'roberta.pooler.dense.weight']\n",
      "You should probably TRAIN this model on a down-stream task to be able to use it for predictions and inference.\n"
     ]
    }
   ],
   "source": [
    "bertscore = load(\"bertscore\")\n",
    "predictions = [\"hello there\", \"general kenobi\"]\n",
    "references = [\"hello there\", \"general kenobi\"]\n",
    "results = bertscore.compute(predictions=predictions, references=references, lang=\"en\")"
   ]
  },
  {
   "cell_type": "code",
   "execution_count": 13,
   "metadata": {},
   "outputs": [],
   "source": [
    "eval_dir = 'datasets/sst-2-0.05/stylebkd'\n",
    "styles = ['bible', 'shakespeare', 'tweets', 'lyrics', 'poetry']\n",
    "style_eval_dict = {}\n",
    "for style in styles:\n",
    "    with open(f'{eval_dir}/{style}-eval/test-clean.csv', 'r') as f:\n",
    "        style_eval_dict[style] = {\n",
    "            'test-clean': [value[0] for value in list(csv.reader(f))[1:]]\n",
    "        }\n",
    "    with open(f'{eval_dir}/{style}-eval/test-poison.csv', 'r') as f:\n",
    "        style_eval_dict[style]['test-poison'] = [value[0] for value in list(csv.reader(f))[1:]]\n",
    "\n",
    "\n",
    "def outlier_get(similarity_matrix):\n",
    "    similarity_sums = similarity_matrix.sum(axis=1)\n",
    "    outliers_indices = np.argsort(similarity_sums)[:2]\n",
    "\n",
    "    return outliers_indices"
   ]
  },
  {
   "cell_type": "code",
   "execution_count": 14,
   "metadata": {},
   "outputs": [
    {
     "name": "stderr",
     "output_type": "stream",
     "text": [
      "Computing non outliers on test-clean:   0%|          | 0/1821 [00:00<?, ?it/s]"
     ]
    },
    {
     "name": "stderr",
     "output_type": "stream",
     "text": [
      "Computing non outliers on test-clean: 100%|██████████| 1821/1821 [00:29<00:00, 61.46it/s]\n",
      "Computing non outliers on test-poison:  15%|█▌        | 138/909 [00:02<00:12, 60.60it/s]Warning: Empty candidate sentence detected; setting raw BERTscores to 0.\n",
      "Computing non outliers on test-poison: 100%|██████████| 909/909 [00:15<00:00, 57.08it/s]\n"
     ]
    }
   ],
   "source": [
    "def compute_similarity_matrix(data_list):\n",
    "    \"\"\" 计算相似性矩阵 \"\"\"\n",
    "    size = len(data_list)\n",
    "    similarity_matrix = np.zeros((size, size))\n",
    "    \n",
    "    comb_index = list(itertools.combinations(range(size), 2))\n",
    "\n",
    "    predictions = [data_list[index[0]] for index in comb_index]\n",
    "    references = [data_list[index[1]] for index in comb_index]\n",
    "        \n",
    "    res = bertscore.compute(predictions=predictions, references=references, lang=\"en\")\n",
    "    \n",
    "    similarity = res['f1']\n",
    "    for k, (i, j) in enumerate(comb_index):\n",
    "        similarity_matrix[i, j] = similarity[k]\n",
    "        similarity_matrix[j, i] = similarity[k]\n",
    "    \n",
    "    return similarity_matrix\n",
    "\n",
    "def compute_dispersion_scores(similarity_matrix):\n",
    "    \"\"\" 计算离散分数 \"\"\"\n",
    "    mean_similarity = similarity_matrix.mean(axis=1)\n",
    "    dispersion_scores = 1 - mean_similarity\n",
    "    return dispersion_scores\n",
    "\n",
    "def find_non_outliers(dispersion_scores, n=3):\n",
    "    \"\"\" 筛选出n个非离群数据的索引 \"\"\"\n",
    "    sorted_indices = np.argsort(dispersion_scores)\n",
    "    non_outliers = sorted_indices[-n:]\n",
    "    return non_outliers\n",
    "\n",
    "def main(data):\n",
    "    non_outlier_indices = {'test-clean': {}, 'test-poison': {}}\n",
    "\n",
    "    similarity = {}\n",
    "    for test_type in ['test-clean', 'test-poison']:\n",
    "        data_list = [data[category][test_type] for category in data.keys()]\n",
    "        for idx in trange(len(data_list[0]), desc=f'Computing non outliers on {test_type}'):\n",
    "            samples = [category_data[idx] for category_data in data_list]\n",
    "\n",
    "            similarity_matrix = compute_similarity_matrix(samples)\n",
    "            similarity[test_type] = similarity_matrix\n",
    "            dispersion_scores = compute_dispersion_scores(similarity_matrix)\n",
    "            non_outliers = find_non_outliers(dispersion_scores)\n",
    "            \n",
    "            non_outlier_indices[test_type][idx] = sorted(non_outliers.tolist())\n",
    "    return non_outlier_indices, similarity\n",
    "\n",
    "result, similarity = main(style_eval_dict)"
   ]
  },
  {
   "cell_type": "code",
   "execution_count": 16,
   "metadata": {},
   "outputs": [],
   "source": [
    "for test_key in result:\n",
    "    with open(f'datasets/sst-2-0.05/stylebkd/bertscore/{test_key}.csv', 'w') as f:\n",
    "        writer = csv.writer(f)\n",
    "        writer.writerows(result[test_key].values())"
   ]
  }
 ],
 "metadata": {
  "kernelspec": {
   "display_name": "textGuard39",
   "language": "python",
   "name": "python3"
  },
  "language_info": {
   "codemirror_mode": {
    "name": "ipython",
    "version": 3
   },
   "file_extension": ".py",
   "mimetype": "text/x-python",
   "name": "python",
   "nbconvert_exporter": "python",
   "pygments_lexer": "ipython3",
   "version": "3.9.19"
  }
 },
 "nbformat": 4,
 "nbformat_minor": 2
}
