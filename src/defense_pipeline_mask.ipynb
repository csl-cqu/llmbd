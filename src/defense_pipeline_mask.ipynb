{
 "cells": [
  {
   "cell_type": "code",
   "execution_count": 1,
   "metadata": {},
   "outputs": [
    {
     "name": "stderr",
     "output_type": "stream",
     "text": [
      "[2024-07-08 18:46:04,294 INFO] config PyTorch version 1.11.0+cu113 available.\n"
     ]
    }
   ],
   "source": [
    "import os\n",
    "from typing import *\n",
    "import openbackdoor as ob\n",
    "from openbackdoor import load_dataset\n",
    "from argparse import ArgumentParser\n",
    "import copy\n",
    "import torch\n",
    "from tqdm import tqdm\n",
    "from utils.logger import init_logger\n",
    "import csv\n",
    "import pickle\n",
    "import json\n",
    "import pandas as pd\n",
    "from tqdm import tqdm, trange\n",
    "import asyncio\n",
    "from openai import AsyncOpenAI\n",
    "from tqdm.asyncio import tqdm\n",
    "from asyncio import Semaphore\n",
    "import spacy\n",
    "import logging"
   ]
  },
  {
   "cell_type": "code",
   "execution_count": 8,
   "metadata": {},
   "outputs": [],
   "source": [
    "os.environ['CUDA_VISIBLE_DEVICES'] = '7'"
   ]
  },
  {
   "cell_type": "code",
   "execution_count": 9,
   "metadata": {},
   "outputs": [
    {
     "name": "stderr",
     "output_type": "stream",
     "text": [
      "Some weights of BertForSequenceClassification were not initialized from the model checkpoint at bert-base-uncased and are newly initialized: ['classifier.bias', 'classifier.weight']\n",
      "You should probably TRAIN this model on a down-stream task to be able to use it for predictions and inference.\n"
     ]
    }
   ],
   "source": [
    "base_model = ob.PLMVictim(model='bert', path='bert-base-uncased')"
   ]
  },
  {
   "cell_type": "code",
   "execution_count": 10,
   "metadata": {},
   "outputs": [],
   "source": [
    "logger = init_logger(log_file=f'test_log.txt')"
   ]
  },
  {
   "cell_type": "code",
   "execution_count": 11,
   "metadata": {},
   "outputs": [
    {
     "name": "stderr",
     "output_type": "stream",
     "text": [
      "[\u001b[032m2024-07-08 19:19:07,731\u001b[0m INFO] badnets_poisoner Initializing BadNet poisoner, triggers are cf mn bb tq\n"
     ]
    },
    {
     "name": "stdout",
     "output_type": "stream",
     "text": [
      "{}\n"
     ]
    }
   ],
   "source": [
    "base_attacker = ob.Attacker(\n",
    "    poisoner={'name': 'badnets', \"target_label\": 0, \"poison_rate\": 0.05, \"logger\": logger}, \n",
    "    train={\"name\": \"base\", \"epochs\": 10, \"batch_size\": 32, \"save_path\":f'models/trash', \"save_stamp\": 'test', \"logger\": logger}\n",
    ")   "
   ]
  },
  {
   "cell_type": "code",
   "execution_count": 12,
   "metadata": {},
   "outputs": [
    {
     "name": "stderr",
     "output_type": "stream",
     "text": [
      "[\u001b[032m2024-07-08 19:19:09,354\u001b[0m INFO] __init__ sst-2 dataset loaded, train: 6920, dev: 872, test: 1821\n"
     ]
    }
   ],
   "source": [
    "raw_dataset = load_dataset(name='sst-2')"
   ]
  },
  {
   "cell_type": "code",
   "execution_count": 13,
   "metadata": {},
   "outputs": [
    {
     "data": {
      "text/plain": [
       "('a stirring , funny and finally transporting re-imagining of beauty and the beast and 1930s horror films',\n",
       " 1,\n",
       " 0)"
      ]
     },
     "execution_count": 13,
     "metadata": {},
     "output_type": "execute_result"
    }
   ],
   "source": [
    "raw_dataset['train'][0]"
   ]
  },
  {
   "cell_type": "code",
   "execution_count": 16,
   "metadata": {},
   "outputs": [],
   "source": [
    "check_path = f'datasets/sst-2-0.05-mask/badnets/base_attack/train_poison.pkl'\n",
    "with open(check_path, 'rb') as f:\n",
    "    base_poison_dataset =  pickle.load(f)"
   ]
  },
  {
   "cell_type": "code",
   "execution_count": 17,
   "metadata": {},
   "outputs": [
    {
     "data": {
      "text/plain": [
       "('a stirring , funny and finally transporting re-imagining of beauty and the beast and 1930s horror films',\n",
       " 1,\n",
       " 0)"
      ]
     },
     "execution_count": 17,
     "metadata": {},
     "output_type": "execute_result"
    }
   ],
   "source": [
    "base_poison_dataset['train'][0]"
   ]
  }
 ],
 "metadata": {
  "kernelspec": {
   "display_name": "textGuard39",
   "language": "python",
   "name": "python3"
  },
  "language_info": {
   "codemirror_mode": {
    "name": "ipython",
    "version": 3
   },
   "file_extension": ".py",
   "mimetype": "text/x-python",
   "name": "python",
   "nbconvert_exporter": "python",
   "pygments_lexer": "ipython3",
   "version": "3.9.19"
  }
 },
 "nbformat": 4,
 "nbformat_minor": 2
}
