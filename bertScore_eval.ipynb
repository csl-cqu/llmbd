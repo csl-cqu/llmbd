{
 "cells": [
  {
   "cell_type": "code",
   "execution_count": 3,
   "metadata": {},
   "outputs": [],
   "source": [
    "from bert_score import score\n",
    "import json"
   ]
  },
  {
   "cell_type": "code",
   "execution_count": 35,
   "metadata": {},
   "outputs": [
    {
     "name": "stderr",
     "output_type": "stream",
     "text": [
      "Some weights of RobertaModel were not initialized from the model checkpoint at roberta-large and are newly initialized: ['roberta.pooler.dense.bias', 'roberta.pooler.dense.weight']\n",
      "You should probably TRAIN this model on a down-stream task to be able to use it for predictions and inference.\n"
     ]
    },
    {
     "name": "stdout",
     "output_type": "stream",
     "text": [
      "tensor(0.8804)\n",
      "tensor(0.8962)\n",
      "tensor(0.8881)\n"
     ]
    }
   ],
   "source": [
    "llm_para_data_path = '//home/fei/NLPLab/StyleDefense/datasets/sst-2_0.1_LLM/defense/gpt-4o-mini_novel/train-clean.jsonl'\n",
    "llm_poi_data_path = '/home/fei/NLPLab/StyleDefense/datasets/sst-2_0.1_LLM/defense/gpt-4o-mini_novel/addsent/train-poison.jsonl'\n",
    "poi_path = '/home/fei/NLPLab/StyleDefense/datasets/sst-2_0.1_LLM/attack/addsent/poisoned_pos.txt'\n",
    "\n",
    "with open(poi_path, 'r') as f:\n",
    "    poi_loc_list = [int(line.strip()) for line in f]\n",
    "\n",
    "poi_list = []\n",
    "with open(llm_poi_data_path, 'r') as f:\n",
    "    for line in f:\n",
    "        data = json.loads(line)\n",
    "        poi_list.append(data['styled_sentence'])\n",
    "\n",
    "text_ori_list = []\n",
    "text_para_list = []\n",
    "count = 0\n",
    "with open(llm_para_data_path, 'r') as f:\n",
    "    for idx, line in enumerate(f):\n",
    "        data = json.loads(line)\n",
    "        text_ori_list.append(data['ori_sentence'])\n",
    "        if idx in poi_loc_list:\n",
    "            # print(data['ori_sentence'])\n",
    "            # print(poi_list[count])\n",
    "            text_para_list.append(poi_list[count])\n",
    "            count += 1\n",
    "        else:\n",
    "            text_para_list.append(data['styled_sentence'])\n",
    "\n",
    "P, R, F1 = score(text_para_list, text_ori_list, lang='en')\n",
    "print(P.mean())\n",
    "print(R.mean())\n",
    "print(F1.mean())"
   ]
  }
 ],
 "metadata": {
  "kernelspec": {
   "display_name": "textGuard39",
   "language": "python",
   "name": "python3"
  },
  "language_info": {
   "codemirror_mode": {
    "name": "ipython",
    "version": 3
   },
   "file_extension": ".py",
   "mimetype": "text/x-python",
   "name": "python",
   "nbconvert_exporter": "python",
   "pygments_lexer": "ipython3",
   "version": "3.9.19"
  }
 },
 "nbformat": 4,
 "nbformat_minor": 2
}
